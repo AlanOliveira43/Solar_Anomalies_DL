{
  "cells": [
    {
      "cell_type": "markdown",
      "metadata": {
        "colab_type": "text",
        "id": "view-in-github"
      },
      "source": [
        "<a href=\"https://colab.research.google.com/github/AlanOliveira43/Solar_Anomalies_DL/blob/main/DL_Solar_Anomalies.ipynb\" target=\"_parent\"><img src=\"https://colab.research.google.com/assets/colab-badge.svg\" alt=\"Open In Colab\"/></a>"
      ]
    },
    {
      "cell_type": "markdown",
      "metadata": {
        "id": "QrRm9l8MggR1"
      },
      "source": [
        "Cell(Ponto quente ocorrendo com geometria quadrada em célula única.) = 1.877 imagens​\n",
        "\n",
        "Cell-Multi(Pontos quentes ocorrendo com geometria quadrada em múltiplas células) = 1.288 imagens​\n",
        "\n",
        "Cracking(Anomalia do módulo causada por rachaduras na superfície do módulo.) = 941 imagens​\n",
        "\n",
        "Hot-Spot(Ponto quente em um módulo de filme fino) = 251 imagens​\n",
        "\n",
        "Hot-Spot-Multi(Vários pontos quentes em um módulo de filme fino) = 247 imagens​\n",
        "\n",
        "Shadowing(Luz solar obstruída por vegetação, estruturas artificiais ou fileiras adjacentes) = 1056 imagens​\n",
        "\n",
        "Diode(Diodo de bypass ativado, normalmente 1/3 do módulo) = 1499 imagens​\n",
        "\n",
        "Diode-Multi(Vários diodos de bypass ativados, normalmente afetando 2/3 dos módulos) = 175 imagens​\n",
        "\n",
        "Vegetation(Painéis bloqueados por vegetação) =  1639 imagens​\n",
        "\n",
        "Soilling(Sujeira, poeira ou outros detritos na superfície do módulo) = 205 imagens​\n",
        "\n",
        "Offline-Module = 828 imagens​\n",
        "\n",
        "No-Anomaly = 10.000 imagens​"
      ]
    },
    {
      "cell_type": "code",
      "execution_count": 16,
      "metadata": {
        "colab": {
          "base_uri": "https://localhost:8080/"
        },
        "id": "4_MC4t9SCdap",
        "outputId": "c2e6602e-03c2-4aec-d534-8b47f35ebbd3"
      },
      "outputs": [
        {
          "name": "stdout",
          "output_type": "stream",
          "text": [
            "Requirement already satisfied: tensorflow in c:\\users\\alan de castro\\appdata\\local\\programs\\python\\python311\\lib\\site-packages (2.13.0)\n",
            "Requirement already satisfied: keras in c:\\users\\alan de castro\\appdata\\local\\programs\\python\\python311\\lib\\site-packages (2.13.1)\n",
            "Requirement already satisfied: wandb in c:\\users\\alan de castro\\appdata\\local\\programs\\python\\python311\\lib\\site-packages (0.16.0)\n",
            "Requirement already satisfied: kaggle in c:\\users\\alan de castro\\appdata\\local\\programs\\python\\python311\\lib\\site-packages (1.5.16)\n",
            "Requirement already satisfied: tensorflow-intel==2.13.0 in c:\\users\\alan de castro\\appdata\\local\\programs\\python\\python311\\lib\\site-packages (from tensorflow) (2.13.0)\n",
            "Requirement already satisfied: absl-py>=1.0.0 in c:\\users\\alan de castro\\appdata\\local\\programs\\python\\python311\\lib\\site-packages (from tensorflow-intel==2.13.0->tensorflow) (1.4.0)\n",
            "Requirement already satisfied: astunparse>=1.6.0 in c:\\users\\alan de castro\\appdata\\local\\programs\\python\\python311\\lib\\site-packages (from tensorflow-intel==2.13.0->tensorflow) (1.6.3)\n",
            "Requirement already satisfied: flatbuffers>=23.1.21 in c:\\users\\alan de castro\\appdata\\local\\programs\\python\\python311\\lib\\site-packages (from tensorflow-intel==2.13.0->tensorflow) (23.5.26)\n",
            "Requirement already satisfied: gast<=0.4.0,>=0.2.1 in c:\\users\\alan de castro\\appdata\\local\\programs\\python\\python311\\lib\\site-packages (from tensorflow-intel==2.13.0->tensorflow) (0.4.0)\n",
            "Requirement already satisfied: google-pasta>=0.1.1 in c:\\users\\alan de castro\\appdata\\local\\programs\\python\\python311\\lib\\site-packages (from tensorflow-intel==2.13.0->tensorflow) (0.2.0)"
          ]
        },
        {
          "name": "stderr",
          "output_type": "stream",
          "text": [
            "\n",
            "[notice] A new release of pip is available: 23.1.2 -> 24.3.1\n",
            "[notice] To update, run: python.exe -m pip install --upgrade pip\n"
          ]
        },
        {
          "name": "stdout",
          "output_type": "stream",
          "text": [
            "\n",
            "Requirement already satisfied: h5py>=2.9.0 in c:\\users\\alan de castro\\appdata\\local\\programs\\python\\python311\\lib\\site-packages (from tensorflow-intel==2.13.0->tensorflow) (3.9.0)\n",
            "Requirement already satisfied: libclang>=13.0.0 in c:\\users\\alan de castro\\appdata\\local\\programs\\python\\python311\\lib\\site-packages (from tensorflow-intel==2.13.0->tensorflow) (16.0.6)\n",
            "Requirement already satisfied: numpy<=1.24.3,>=1.22 in c:\\users\\alan de castro\\appdata\\local\\programs\\python\\python311\\lib\\site-packages (from tensorflow-intel==2.13.0->tensorflow) (1.24.3)\n",
            "Requirement already satisfied: opt-einsum>=2.3.2 in c:\\users\\alan de castro\\appdata\\local\\programs\\python\\python311\\lib\\site-packages (from tensorflow-intel==2.13.0->tensorflow) (3.3.0)\n",
            "Requirement already satisfied: packaging in c:\\users\\alan de castro\\appdata\\local\\programs\\python\\python311\\lib\\site-packages (from tensorflow-intel==2.13.0->tensorflow) (23.2)\n",
            "Requirement already satisfied: protobuf!=4.21.0,!=4.21.1,!=4.21.2,!=4.21.3,!=4.21.4,!=4.21.5,<5.0.0dev,>=3.20.3 in c:\\users\\alan de castro\\appdata\\local\\programs\\python\\python311\\lib\\site-packages (from tensorflow-intel==2.13.0->tensorflow) (4.24.2)\n",
            "Requirement already satisfied: setuptools in c:\\users\\alan de castro\\appdata\\local\\programs\\python\\python311\\lib\\site-packages (from tensorflow-intel==2.13.0->tensorflow) (65.5.0)\n",
            "Requirement already satisfied: six>=1.12.0 in c:\\users\\alan de castro\\appdata\\roaming\\python\\python311\\site-packages (from tensorflow-intel==2.13.0->tensorflow) (1.16.0)\n",
            "Requirement already satisfied: termcolor>=1.1.0 in c:\\users\\alan de castro\\appdata\\local\\programs\\python\\python311\\lib\\site-packages (from tensorflow-intel==2.13.0->tensorflow) (2.3.0)\n",
            "Requirement already satisfied: typing-extensions<4.6.0,>=3.6.6 in c:\\users\\alan de castro\\appdata\\local\\programs\\python\\python311\\lib\\site-packages (from tensorflow-intel==2.13.0->tensorflow) (4.5.0)\n",
            "Requirement already satisfied: wrapt>=1.11.0 in c:\\users\\alan de castro\\appdata\\local\\programs\\python\\python311\\lib\\site-packages (from tensorflow-intel==2.13.0->tensorflow) (1.15.0)"
          ]
        }
      ],
      "source": [
        "!pip install tensorflow keras wandb kaggle"
      ]
    },
    {
      "cell_type": "code",
      "execution_count": 17,
      "metadata": {},
      "outputs": [
        {
          "name": "stdout",
          "output_type": "stream",
          "text": [
            "\n",
            "Requirement already satisfied: grpcio<2.0,>=1.24.3 in c:\\users\\alan de castro\\appdata\\local\\programs\\python\\python311\\lib\\site-packages (from tensorflow-intel==2.13.0->tensorflow) (1.57.0)\n",
            "Requirement already satisfied: tensorboard<2.14,>=2.13 in c:\\users\\alan de castro\\appdata\\local\\programs\\python\\python311\\lib\\site-packages (from tensorflow-intel==2.13.0->tensorflow) (2.13.0)\n",
            "Requirement already satisfied: tensorflow-estimator<2.14,>=2.13.0 in c:\\users\\alan de castro\\appdata\\local\\programs\\python\\python311\\lib\\site-packages (from tensorflow-intel==2.13.0->tensorflow) (2.13.0)\n",
            "Requirement already satisfied: tensorflow-io-gcs-filesystem>=0.23.1 in c:\\users\\alan de castro\\appdata\\local\\programs\\python\\python311\\lib\\site-packages (from tensorflow-intel==2.13.0->tensorflow) (0.31.0)\n",
            "Requirement already satisfied: Click!=8.0.0,>=7.1 in c:\\users\\alan de castro\\appdata\\local\\programs\\python\\python311\\lib\\site-packages (from wandb) (8.1.7)\n",
            "Requirement already satisfied: GitPython!=3.1.29,>=1.0.0 in c:\\users\\alan de castro\\appdata\\local\\programs\\python\\python311\\lib\\site-packages (from wandb) (3.1.40)\n",
            "Requirement already satisfied: requests<3,>=2.0.0 in c:\\users\\alan de castro\\appdata\\local\\programs\\python\\python311\\lib\\site-packages (from wandb) (2.31.0)\n",
            "Requirement already satisfied: psutil>=5.0.0 in c:\\users\\alan de castro\\appdata\\roaming\\python\\python311\\site-packages (from wandb) (5.9.5)\n",
            "Requirement already satisfied: sentry-sdk>=1.0.0 in c:\\users\\alan de castro\\appdata\\local\\programs\\python\\python311\\lib\\site-packages (from wandb) (1.37.1)\n",
            "Requirement already satisfied: docker-pycreds>=0.4.0 in c:\\users\\alan de castro\\appdata\\local\\programs\\python\\python311\\lib\\site-packages (from wandb) (0.4.0)\n",
            "Requirement already satisfied: PyYAML in c:\\users\\alan de castro\\appdata\\local\\programs\\python\\python311\\lib\\site-packages (from wandb) (6.0.1)\n",
            "Requirement already satisfied: setproctitle in c:\\users\\alan de castro\\appdata\\local\\programs\\python\\python311\\lib\\site-packages (from wandb) (1.3.3)\n",
            "Requirement already satisfied: appdirs>=1.4.3 in c:\\users\\alan de castro\\appdata\\local\\programs\\python\\python311\\lib\\site-packages (from wandb) (1.4.4)\n",
            "Requirement already satisfied: certifi in c:\\users\\alan de castro\\appdata\\local\\programs\\python\\python311\\lib\\site-packages (from kaggle) (2023.7.22)\n",
            "Requirement already satisfied: python-dateutil in c:\\users\\alan de castro\\appdata\\roaming\\python\\python311\\site-packages (from kaggle) (2.8.2)\n",
            "Requirement already satisfied: tqdm in c:\\users\\alan de castro\\appdata\\local\\programs\\python\\python311\\lib\\site-packages (from kaggle) (4.66.1)\n",
            "Requirement already satisfied: python-slugify in c:\\users\\alan de castro\\appdata\\local\\programs\\python\\python311\\lib\\site-packages (from kaggle) (8.0.1)\n",
            "Requirement already satisfied: urllib3 in c:\\users\\alan de castro\\appdata\\local\\programs\\python\\python311\\lib\\site-packages (from kaggle) (1.26.16)\n",
            "Requirement already satisfied: bleach in c:\\users\\alan de castro\\appdata\\local\\programs\\python\\python311\\lib\\site-packages (from kaggle) (6.1.0)\n",
            "Requirement already satisfied: colorama in c:\\users\\alan de castro\\appdata\\roaming\\python\\python311\\site-packages (from Click!=8.0.0,>=7.1->wandb) (0.4.6)\n",
            "Requirement already satisfied: gitdb<5,>=4.0.1 in c:\\users\\alan de castro\\appdata\\local\\programs\\python\\python311\\lib\\site-packages (from GitPython!=3.1.29,>=1.0.0->wandb) (4.0.11)\n",
            "Requirement already satisfied: charset-normalizer<4,>=2 in c:\\users\\alan de castro\\appdata\\local\\programs\\python\\python311\\lib\\site-packages (from requests<3,>=2.0.0->wandb) (3.2.0)\n",
            "Requirement already satisfied: idna<4,>=2.5 in c:\\users\\alan de castro\\appdata\\local\\programs\\python\\python311\\lib\\site-packages (from requests<3,>=2.0.0->wandb) (3.4)\n",
            "Requirement already satisfied: webencodings in c:\\users\\alan de castro\\appdata\\local\\programs\\python\\python311\\lib\\site-packages (from bleach->kaggle) (0.5.1)\n",
            "Requirement already satisfied: text-unidecode>=1.3 in c:\\users\\alan de castro\\appdata\\local\\programs\\python\\python311\\lib\\site-packages (from python-slugify->kaggle) (1.3)\n",
            "Requirement already satisfied: wheel<1.0,>=0.23.0 in c:\\users\\alan de castro\\appdata\\local\\programs\\python\\python311\\lib\\site-packages (from astunparse>=1.6.0->tensorflow-intel==2.13.0->tensorflow) (0.41.2)\n",
            "Requirement already satisfied: smmap<6,>=3.0.1 in c:\\users\\alan de castro\\appdata\\local\\programs\\python\\python311\\lib\\site-packages (from gitdb<5,>=4.0.1->GitPython!=3.1.29,>=1.0.0->wandb) (5.0.1)\n",
            "Requirement already satisfied: google-auth<3,>=1.6.3 in c:\\users\\alan de castro\\appdata\\local\\programs\\python\\python311\\lib\\site-packages (from tensorboard<2.14,>=2.13->tensorflow-intel==2.13.0->tensorflow) (2.22.0)\n",
            "Requirement already satisfied: google-auth-oauthlib<1.1,>=0.5 in c:\\users\\alan de castro\\appdata\\local\\programs\\python\\python311\\lib\\site-packages (from tensorboard<2.14,>=2.13->tensorflow-intel==2.13.0->tensorflow) (1.0.0)\n",
            "Requirement already satisfied: markdown>=2.6.8 in c:\\users\\alan de castro\\appdata\\local\\programs\\python\\python311\\lib\\site-packages (from tensorboard<2.14,>=2.13->tensorflow-intel==2.13.0->tensorflow) (3.4.4)\n",
            "Requirement already satisfied: tensorboard-data-server<0.8.0,>=0.7.0 in c:\\users\\alan de castro\\appdata\\local\\programs\\python\\python311\\lib\\site-packages (from tensorboard<2.14,>=2.13->tensorflow-intel==2.13.0->tensorflow) (0.7.1)\n",
            "Requirement already satisfied: werkzeug>=1.0.1 in c:\\users\\alan de castro\\appdata\\local\\programs\\python\\python311\\lib\\site-packages (from tensorboard<2.14,>=2.13->tensorflow-intel==2.13.0->tensorflow) (2.3.7)\n",
            "Requirement already satisfied: cachetools<6.0,>=2.0.0 in c:\\users\\alan de castro\\appdata\\local\\programs\\python\\python311\\lib\\site-packages (from google-auth<3,>=1.6.3->tensorboard<2.14,>=2.13->tensorflow-intel==2.13.0->tensorflow) (5.3.1)\n",
            "Requirement already satisfied: pyasn1-modules>=0.2.1 in c:\\users\\alan de castro\\appdata\\local\\programs\\python\\python311\\lib\\site-packages (from google-auth<3,>=1.6.3->tensorboard<2.14,>=2.13->tensorflow-intel==2.13.0->tensorflow) (0.3.0)\n",
            "Requirement already satisfied: rsa<5,>=3.1.4 in c:\\users\\alan de castro\\appdata\\local\\programs\\python\\python311\\lib\\site-packages (from google-auth<3,>=1.6.3->tensorboard<2.14,>=2.13->tensorflow-intel==2.13.0->tensorflow) (4.9)\n",
            "Requirement already satisfied: requests-oauthlib>=0.7.0 in c:\\users\\alan de castro\\appdata\\local\\programs\\python\\python311\\lib\\site-packages (from google-auth-oauthlib<1.1,>=0.5->tensorboard<2.14,>=2.13->tensorflow-intel==2.13.0->tensorflow) (1.3.1)\n",
            "Requirement already satisfied: MarkupSafe>=2.1.1 in c:\\users\\alan de castro\\appdata\\local\\programs\\python\\python311\\lib\\site-packages (from werkzeug>=1.0.1->tensorboard<2.14,>=2.13->tensorflow-intel==2.13.0->tensorflow) (2.1.3)\n",
            "Requirement already satisfied: pyasn1<0.6.0,>=0.4.6 in c:\\users\\alan de castro\\appdata\\local\\programs\\python\\python311\\lib\\site-packages (from pyasn1-modules>=0.2.1->google-auth<3,>=1.6.3->tensorboard<2.14,>=2.13->tensorflow-intel==2.13.0->tensorflow) (0.5.0)\n",
            "Requirement already satisfied: oauthlib>=3.0.0 in c:\\users\\alan de castro\\appdata\\local\\programs\\python\\python311\\lib\\site-packages (from requests-oauthlib>=0.7.0->google-auth-oauthlib<1.1,>=0.5->tensorboard<2.14,>=2.13->tensorflow-intel==2.13.0->tensorflow) (3.2.2)\n"
          ]
        }
      ],
      "source": [
        "import tensorflow as tf\n",
        "from tensorflow.keras import layers, models\n",
        "from tensorflow.keras.preprocessing.image import ImageDataGenerator\n",
        "from tensorflow.keras.optimizers import Adam\n",
        "from tensorflow.keras.applications import VGG16\n",
        "import wandb\n",
        "from sklearn.metrics import ConfusionMatrixDisplay, confusion_matrix\n",
        "import numpy as np\n",
        "from tensorflow.keras.callbacks import Callback\n",
        "from wandb.keras import WandbCallback"
      ]
    },
    {
      "cell_type": "code",
      "execution_count": 18,
      "metadata": {},
      "outputs": [
        {
          "name": "stderr",
          "output_type": "stream",
          "text": [
            "\u001b[34m\u001b[1mwandb\u001b[0m: \u001b[33mWARNING\u001b[0m Calling wandb.login() after wandb.init() has no effect.\n"
          ]
        },
        {
          "data": {
            "text/html": [
              "Finishing last run (ID:xf2d7v43) before initializing another..."
            ],
            "text/plain": [
              "<IPython.core.display.HTML object>"
            ]
          },
          "metadata": {},
          "output_type": "display_data"
        },
        {
          "data": {
            "application/vnd.jupyter.widget-view+json": {
              "model_id": "ebf5fe2ce03c4348ae6051ba9aca4e0b",
              "version_major": 2,
              "version_minor": 0
            },
            "text/plain": [
              "VBox(children=(Label(value='0.001 MB of 0.001 MB uploaded\\r'), FloatProgress(value=1.0, max=1.0)))"
            ]
          },
          "metadata": {},
          "output_type": "display_data"
        },
        {
          "data": {
            "text/html": [
              " View run <strong style=\"color:#cdcd00\">visionary-morning-122</strong> at: <a href='https://wandb.ai/a-de-castro/Solar_Anomalies/runs/xf2d7v43' target=\"_blank\">https://wandb.ai/a-de-castro/Solar_Anomalies/runs/xf2d7v43</a><br/>Synced 5 W&B file(s), 0 media file(s), 0 artifact file(s) and 0 other file(s)"
            ],
            "text/plain": [
              "<IPython.core.display.HTML object>"
            ]
          },
          "metadata": {},
          "output_type": "display_data"
        },
        {
          "data": {
            "text/html": [
              "Find logs at: <code>.\\wandb\\run-20241103_131149-xf2d7v43\\logs</code>"
            ],
            "text/plain": [
              "<IPython.core.display.HTML object>"
            ]
          },
          "metadata": {},
          "output_type": "display_data"
        },
        {
          "data": {
            "text/html": [
              "Successfully finished last run (ID:xf2d7v43). Initializing new run:<br/>"
            ],
            "text/plain": [
              "<IPython.core.display.HTML object>"
            ]
          },
          "metadata": {},
          "output_type": "display_data"
        },
        {
          "data": {
            "application/vnd.jupyter.widget-view+json": {
              "model_id": "dba0042d063748a7a87015b5628cdd91",
              "version_major": 2,
              "version_minor": 0
            },
            "text/plain": [
              "VBox(children=(Label(value='Waiting for wandb.init()...\\r'), FloatProgress(value=0.011111111111111112, max=1.0…"
            ]
          },
          "metadata": {},
          "output_type": "display_data"
        },
        {
          "data": {
            "text/html": [
              "wandb version 0.18.5 is available!  To upgrade, please run:\n",
              " $ pip install wandb --upgrade"
            ],
            "text/plain": [
              "<IPython.core.display.HTML object>"
            ]
          },
          "metadata": {},
          "output_type": "display_data"
        },
        {
          "data": {
            "text/html": [
              "Tracking run with wandb version 0.16.0"
            ],
            "text/plain": [
              "<IPython.core.display.HTML object>"
            ]
          },
          "metadata": {},
          "output_type": "display_data"
        },
        {
          "data": {
            "text/html": [
              "Run data is saved locally in <code>c:\\Users\\Alan de Castro\\Desktop\\Projetos\\Solar_Anomalies_DL\\wandb\\run-20241103_131337-mpdv22qr</code>"
            ],
            "text/plain": [
              "<IPython.core.display.HTML object>"
            ]
          },
          "metadata": {},
          "output_type": "display_data"
        },
        {
          "data": {
            "text/html": [
              "Syncing run <strong><a href='https://wandb.ai/a-de-castro/Solar_Anomalies/runs/mpdv22qr' target=\"_blank\">solar-field-123</a></strong> to <a href='https://wandb.ai/a-de-castro/Solar_Anomalies' target=\"_blank\">Weights & Biases</a> (<a href='https://wandb.me/run' target=\"_blank\">docs</a>)<br/>"
            ],
            "text/plain": [
              "<IPython.core.display.HTML object>"
            ]
          },
          "metadata": {},
          "output_type": "display_data"
        },
        {
          "data": {
            "text/html": [
              " View project at <a href='https://wandb.ai/a-de-castro/Solar_Anomalies' target=\"_blank\">https://wandb.ai/a-de-castro/Solar_Anomalies</a>"
            ],
            "text/plain": [
              "<IPython.core.display.HTML object>"
            ]
          },
          "metadata": {},
          "output_type": "display_data"
        },
        {
          "data": {
            "text/html": [
              " View run at <a href='https://wandb.ai/a-de-castro/Solar_Anomalies/runs/mpdv22qr' target=\"_blank\">https://wandb.ai/a-de-castro/Solar_Anomalies/runs/mpdv22qr</a>"
            ],
            "text/plain": [
              "<IPython.core.display.HTML object>"
            ]
          },
          "metadata": {},
          "output_type": "display_data"
        },
        {
          "data": {
            "text/html": [
              "<button onClick=\"this.nextSibling.style.display='block';this.style.display='none';\">Display W&B run</button><iframe src='https://wandb.ai/a-de-castro/Solar_Anomalies/runs/mpdv22qr?jupyter=true' style='border:none;width:100%;height:420px;display:none;'></iframe>"
            ],
            "text/plain": [
              "<wandb.sdk.wandb_run.Run at 0x17fef836110>"
            ]
          },
          "execution_count": 18,
          "metadata": {},
          "output_type": "execute_result"
        }
      ],
      "source": [
        "# Configurar Weights & Biases\n",
        "wandb.login(key='3f59d60198ca3209f056a0b885d7e5d7f51ec4bf')  # Substituir pela sua chave de API do W&B\n",
        "\n",
        "# Inicializar o W&B\n",
        "wandb.init(project='Solar_Anomalies', entity='a-de-castro')\n"
      ]
    },
    {
      "cell_type": "code",
      "execution_count": 25,
      "metadata": {
        "colab": {
          "background_save": true,
          "base_uri": "https://localhost:8080/",
          "height": 1000,
          "referenced_widgets": [
            "0659feca8f3d47bc8c781ad89a7cd23a",
            "d48ce540a1c2485686c90588adc7791b",
            "86d3aaaf12b7416083eabffe48e027a5",
            "a293c06cd6e44a77a84018f47950a442",
            "21068e9407f748b8a655e705f750e4c1",
            "55bcac12abb64e32a1dc4fdd0e0a1fc6",
            "cb8fad6ca59a4fb7a98e2a91ef5585eb",
            "d0da5f6716574477a14066bf3c990665"
          ]
        },
        "id": "fmlHnJwkv_1N",
        "outputId": "8addf2b0-d239-4c82-ce9b-e0bc38e518f2"
      },
      "outputs": [
        {
          "name": "stdout",
          "output_type": "stream",
          "text": [
            "Found 11119 images belonging to 12 classes.\n",
            "Found 5583 images belonging to 11 classes.\n",
            "Found 2774 images belonging to 12 classes.\n",
            "Found 1390 images belonging to 11 classes.\n",
            "Found 1703 images belonging to 11 classes.\n",
            "Epoch 1/10\n",
            "5/5 [==============================] - 1s 175ms/step loss: 1.9679 - accura\n",
            "349/349 [==============================] - 67s 188ms/step - loss: 1.9679 - accuracy: 0.2843 - val_loss: 1.8368 - val_accuracy: 0.3683\n",
            "Epoch 2/10\n",
            "5/5 [==============================] - 1s 184ms/step loss: 1.8305 - accura\n",
            "349/349 [==============================] - 65s 186ms/step - loss: 1.8305 - accuracy: 0.3464 - val_loss: 1.7802 - val_accuracy: 0.3763\n",
            "Epoch 3/10\n",
            "5/5 [==============================] - 1s 198ms/step loss: 1.7912 - accura\n",
            "349/349 [==============================] - 66s 190ms/step - loss: 1.7912 - accuracy: 0.3588 - val_loss: 1.7512 - val_accuracy: 0.3849\n",
            "Epoch 4/10\n",
            "5/5 [==============================] - 1s 178ms/step loss: 1.7556 - accura\n",
            "349/349 [==============================] - 66s 190ms/step - loss: 1.7556 - accuracy: 0.3649 - val_loss: 1.7396 - val_accuracy: 0.3698\n",
            "Epoch 5/10\n",
            "5/5 [==============================] - 1s 209ms/step loss: 1.7292 - accura\n",
            "349/349 [==============================] - 67s 191ms/step - loss: 1.7292 - accuracy: 0.3790 - val_loss: 1.7032 - val_accuracy: 0.3942\n",
            "Epoch 6/10\n",
            "5/5 [==============================] - 1s 225ms/step loss: 1.7173 - accura\n",
            "349/349 [==============================] - 66s 190ms/step - loss: 1.7173 - accuracy: 0.3779 - val_loss: 1.7016 - val_accuracy: 0.4209\n",
            "Epoch 7/10\n",
            "5/5 [==============================] - 1s 161ms/step loss: 1.7047 - accura\n",
            "349/349 [==============================] - 63s 182ms/step - loss: 1.7047 - accuracy: 0.3847 - val_loss: 1.7091 - val_accuracy: 0.3842\n",
            "Epoch 8/10\n",
            "5/5 [==============================] - 1s 167ms/step loss: 1.6920 - accura\n",
            "349/349 [==============================] - 72s 206ms/step - loss: 1.6920 - accuracy: 0.3969 - val_loss: 1.6981 - val_accuracy: 0.4108\n",
            "Epoch 9/10\n",
            "5/5 [==============================] - 1s 184ms/step loss: 1.6849 - accura\n",
            "349/349 [==============================] - 62s 177ms/step - loss: 1.6849 - accuracy: 0.3960 - val_loss: 1.6805 - val_accuracy: 0.3957\n",
            "Epoch 10/10\n",
            "5/5 [==============================] - 1s 194ms/step loss: 1.6652 - accura\n",
            "349/349 [==============================] - 61s 175ms/step - loss: 1.6652 - accuracy: 0.4035 - val_loss: 1.6867 - val_accuracy: 0.4022\n",
            "107/107 - 12s - loss: 1.6070 - accuracy: 0.4316 - 12s/epoch - 108ms/step\n",
            "\n",
            "Acurácia no conjunto de teste: 0.43159130215644836\n"
          ]
        }
      ],
      "source": [
        "# Definindo parâmetros\n",
        "batch_size = 16\n",
        "epochs = 10\n",
        "img_height, img_width = 32, 32\n",
        "num_log_batches = 10\n",
        "cfg = wandb.config\n",
        "\n",
        "# Geradores de dados\n",
        "train_data_gen = ImageDataGenerator(\n",
        "    rescale=1./255,\n",
        "    validation_split=0.2,\n",
        "    rotation_range=20,\n",
        "    width_shift_range=0.2,\n",
        "    height_shift_range=0.2,\n",
        "    shear_range=0.2,\n",
        "    zoom_range=0.2,\n",
        "    horizontal_flip=True,\n",
        "    fill_mode='nearest'\n",
        ")\n",
        "\n",
        "# Função para filtrar a classe \"No-Anomaly\" ao carregar imagens\n",
        "def filter_no_anomaly(generator, subset):\n",
        "    temp_gen = generator.flow_from_directory(\n",
        "        './data/data/train',\n",
        "        target_size=(img_height, img_width),\n",
        "        batch_size=batch_size,\n",
        "        class_mode='categorical',\n",
        "        subset=subset,\n",
        "    )\n",
        "    # Mapear as classes que não são \"No-Anomaly\"\n",
        "    filtered_indices = [i for i, label in enumerate(temp_gen.class_indices.keys()) if label != \"No-Anomaly\"]\n",
        "    filtered_class_indices = {label: i for i, (label, idx) in enumerate(temp_gen.class_indices.items()) if label != \"No-Anomaly\"}\n",
        "    \n",
        "    # Modificar o gerador original para usar somente as classes filtradas\n",
        "    generator.class_indices = filtered_class_indices\n",
        "    generator.num_classes = len(filtered_class_indices)\n",
        "    generator.samples = sum([temp_gen.classes.tolist().count(i) for i in filtered_indices])\n",
        "    generator.filenames = [f for f, c in zip(temp_gen.filenames, temp_gen.classes) if c in filtered_indices]\n",
        "    return generator.flow_from_directory(\n",
        "        './data/data/train',\n",
        "        target_size=(img_height, img_width),\n",
        "        batch_size=batch_size,\n",
        "        class_mode='categorical',\n",
        "        subset=subset,\n",
        "        classes=list(filtered_class_indices.keys())\n",
        "    )\n",
        "\n",
        "# Criando gerador de treinamento e validação sem a classe \"No-Anomaly\"\n",
        "train_generator = filter_no_anomaly(train_data_gen, 'training')\n",
        "val_generator = filter_no_anomaly(train_data_gen, 'validation')\n",
        "\n",
        "# Criar gerador de teste sem a classe \"No-Anomaly\"\n",
        "holdout_generator = ImageDataGenerator(rescale=1./255).flow_from_directory(\n",
        "    './data/data/test',\n",
        "    target_size=(img_height, img_width),\n",
        "    batch_size=batch_size,\n",
        "    class_mode='categorical',\n",
        "    classes=[cls for cls in train_generator.class_indices.keys()]\n",
        ")\n",
        "\n",
        "# Ajustar o número de lotes de validação\n",
        "num_batches = len(val_generator)\n",
        "num_log_batches = min(num_log_batches, num_batches)\n",
        "\n",
        "# Carregar modelo VGG16\n",
        "base_model = VGG16(weights='imagenet', include_top=False, input_shape=(32, 32, 3))\n",
        "base_model.trainable = False\n",
        "\n",
        "# Construir modelo\n",
        "model = models.Sequential()\n",
        "model.add(base_model)\n",
        "model.add(layers.MaxPooling2D(pool_size=(2, 2), padding=\"same\"))\n",
        "model.add(layers.Flatten())\n",
        "model.add(layers.Dense(4096, activation='relu'))\n",
        "model.add(layers.Dropout(0.3))\n",
        "model.add(layers.Dense(len(train_generator.class_indices), activation='softmax'))\n",
        "\n",
        "# Compilar o modelo\n",
        "model.compile(optimizer=Adam(learning_rate=0.0001),\n",
        "              loss='categorical_crossentropy',\n",
        "              metrics=['accuracy'])\n",
        "\n",
        "# Callbacks W&B\n",
        "wandb_callback = wandb.keras.WandbCallback()\n",
        "\n",
        "class PRMetrics(Callback):\n",
        "    def __init__(self, validation_generator, num_log_batches=1):\n",
        "        super(PRMetrics, self).__init__()\n",
        "        self.validation_generator = validation_generator\n",
        "        self.num_log_batches = num_log_batches\n",
        "        self.flat_class_names = list(validation_generator.class_indices.keys())\n",
        "\n",
        "    def on_epoch_end(self, epoch, logs=None):\n",
        "        val_data, val_labels = zip(*(self.validation_generator[i] for i in range(self.num_log_batches)))\n",
        "        val_data, val_labels = np.vstack(val_data), np.vstack(val_labels)\n",
        "        val_predictions = self.model.predict(val_data)\n",
        "        ground_truth_class_ids = np.argmax(val_labels, axis=1)\n",
        "        predicted_class_ids = np.argmax(val_predictions, axis=1)\n",
        "        conf_mat = confusion_matrix(ground_truth_class_ids, predicted_class_ids)\n",
        "        wandb.log({\"conf_mat_epoch_\" + str(epoch): wandb.plot.confusion_matrix(probs=None,\n",
        "                     preds=predicted_class_ids, y_true=ground_truth_class_ids,\n",
        "                     class_names=self.flat_class_names)}, commit=False)\n",
        "\n",
        "pr_metrics_callback = PRMetrics(val_generator, num_log_batches)\n",
        "callbacks = [wandb_callback, pr_metrics_callback]\n",
        "\n",
        "\n",
        "\n",
        "# Treinando o modelo com class_weight\n",
        "history = model.fit(\n",
        "    train_generator,\n",
        "    epochs=epochs,\n",
        "    validation_data=val_generator,\n",
        "    callbacks=callbacks\n",
        ")\n",
        "\n",
        "\n",
        "# Avaliar o modelo\n",
        "test_loss, test_acc = model.evaluate(holdout_generator, verbose=2)\n",
        "print(f'\\nAcurácia no conjunto de teste: {test_acc}')\n"
      ]
    },
    {
      "cell_type": "code",
      "execution_count": 26,
      "metadata": {},
      "outputs": [
        {
          "name": "stdout",
          "output_type": "stream",
          "text": [
            "Classes representadas e suas quantidades:\n",
            "Classe 'Cell': 1077 imagens\n",
            "Classe 'Cell-Multi': 712 imagens\n",
            "Classe 'Cracking': 528 imagens\n",
            "Classe 'Diode': 840 imagens\n",
            "Classe 'Diode-Multi': 105 imagens\n",
            "Classe 'Hot-Spot': 139 imagens\n",
            "Classe 'Hot-Spot-Multi': 138 imagens\n",
            "Classe 'Offline-Module': 439 imagens\n",
            "Classe 'Shadowing': 604 imagens\n",
            "Classe 'Soiling': 99 imagens\n",
            "Classe 'Vegetation': 902 imagens\n",
            "Classes representadas e suas quantidades:\n",
            "Classe 'Cell': 269 imagens\n",
            "Classe 'Cell-Multi': 178 imagens\n",
            "Classe 'Cracking': 132 imagens\n",
            "Classe 'Diode': 209 imagens\n",
            "Classe 'Diode-Multi': 26 imagens\n",
            "Classe 'Hot-Spot': 34 imagens\n",
            "Classe 'Hot-Spot-Multi': 34 imagens\n",
            "Classe 'Offline-Module': 109 imagens\n",
            "Classe 'Shadowing': 150 imagens\n",
            "Classe 'Soiling': 24 imagens\n",
            "Classe 'Vegetation': 225 imagens\n",
            "Classes representadas e suas quantidades:\n",
            "Classe 'Cell': 295 imagens\n",
            "Classe 'Cell-Multi': 208 imagens\n",
            "Classe 'Cracking': 161 imagens\n",
            "Classe 'Diode': 255 imagens\n",
            "Classe 'Diode-Multi': 27 imagens\n",
            "Classe 'Hot-Spot': 42 imagens\n",
            "Classe 'Hot-Spot-Multi': 48 imagens\n",
            "Classe 'Offline-Module': 138 imagens\n",
            "Classe 'Shadowing': 178 imagens\n",
            "Classe 'Soiling': 51 imagens\n",
            "Classe 'Vegetation': 300 imagens\n"
          ]
        }
      ],
      "source": [
        "# Função para exibir as classes e suas quantidades\n",
        "def exibir_classes_e_quantidades(generator):\n",
        "    class_labels = list(generator.class_indices.keys())  # Pega os nomes das classes\n",
        "    class_counts = {class_label: 0 for class_label in class_labels}  # Inicializa um dicionário para contagem\n",
        "\n",
        "    # Conta a quantidade de imagens em cada classe\n",
        "    for class_index in generator.classes:\n",
        "        class_label = class_labels[class_index]\n",
        "        class_counts[class_label] += 1\n",
        "\n",
        "    # Exibe as classes e suas respectivas quantidades\n",
        "    print(\"Classes representadas e suas quantidades:\")\n",
        "    for class_label, count in class_counts.items():\n",
        "        print(f\"Classe '{class_label}': {count} imagens\")\n",
        "\n",
        "# Exibindo as classes e quantidades no gerador de treinamento\n",
        "exibir_classes_e_quantidades(train_generator)\n",
        "\n",
        "# Exibindo as classes e quantidades no gerador de validação\n",
        "exibir_classes_e_quantidades(val_generator)\n",
        "\n",
        "# Exibindo as classes e quantidades no gerador de teste\n",
        "exibir_classes_e_quantidades(holdout_generator)\n"
      ]
    },
    {
      "cell_type": "code",
      "execution_count": 27,
      "metadata": {},
      "outputs": [
        {
          "name": "stderr",
          "output_type": "stream",
          "text": [
            "c:\\Users\\Alan de Castro\\AppData\\Local\\Programs\\Python\\Python311\\Lib\\site-packages\\keras\\src\\engine\\training.py:3000: UserWarning: You are saving your model as an HDF5 file via `model.save()`. This file format is considered legacy. We recommend using instead the native Keras format, e.g. `model.save('my_model.keras')`.\n",
            "  saving_api.save_model(\n"
          ]
        },
        {
          "name": "stdout",
          "output_type": "stream",
          "text": [
            "107/107 [==============================] - 12s 111ms/step\n"
          ]
        },
        {
          "name": "stderr",
          "output_type": "stream",
          "text": [
            "c:\\Users\\Alan de Castro\\AppData\\Local\\Programs\\Python\\Python311\\Lib\\site-packages\\keras\\src\\engine\\training.py:3000: UserWarning: You are saving your model as an HDF5 file via `model.save()`. This file format is considered legacy. We recommend using instead the native Keras format, e.g. `model.save('my_model.keras')`.\n",
            "  saving_api.save_model(\n"
          ]
        },
        {
          "data": {
            "text/plain": [
              "<sklearn.metrics._plot.confusion_matrix.ConfusionMatrixDisplay at 0x17f80d48850>"
            ]
          },
          "execution_count": 27,
          "metadata": {},
          "output_type": "execute_result"
        },
        {
          "data": {
            "image/png": "[encoded data removed]",
            "text/plain": [
              "<Figure size 640x480 with 2 Axes>"
            ]
          },
          "metadata": {},
          "output_type": "display_data"
        }
      ],
      "source": [
        "# Salvando o modelo treinado\n",
        "model.save('modelo_transfer_learning_vgg_solar.h5')\n",
        "\n",
        "# Calculando Matriz de Confusão\n",
        "y_pred = model.predict(holdout_generator)\n",
        "y_true = holdout_generator.classes\n",
        "\n",
        "cm = confusion_matrix(y_true, np.argmax(y_pred, axis=1))\n",
        "wandb.log({\"Matriz de Confusão\": wandb.sklearn.plot_confusion_matrix(y_true, np.argmax(y_pred, axis=1))})\n",
        "\n",
        "# Salvando o modelo treinado novamente\n",
        "model.save('modelo_transfer_learning_vgg_solar.h5')\n",
        "\n",
        "# Exibindo a matriz de confusão\n",
        "disp = ConfusionMatrixDisplay(confusion_matrix=cm)\n",
        "disp.plot()"
      ]
    }
  ],
  "metadata": {
    "colab": {
      "authorship_tag": "ABX9TyPJZVa55Vcy6L0J3xsehd54",
      "include_colab_link": true,
      "provenance": []
    },
    "kernelspec": {
      "display_name": "Python 3",
      "name": "python3"
    },
    "language_info": {
      "codemirror_mode": {
        "name": "ipython",
        "version": 3
      },
      "file_extension": ".py",
      "mimetype": "text/x-python",
      "name": "python",
      "nbconvert_exporter": "python",
      "pygments_lexer": "ipython3",
      "version": "3.11.4"
    },
    "widgets": {
      "application/vnd.jupyter.widget-state+json": {
        "0659feca8f3d47bc8c781ad89a7cd23a": {
          "model_module": "@jupyter-widgets/controls",
          "model_module_version": "1.5.0",
          "model_name": "VBoxModel",
          "state": {
            "_dom_classes": [],
            "_model_module": "@jupyter-widgets/controls",
            "_model_module_version": "1.5.0",
            "_model_name": "VBoxModel",
            "_view_count": null,
            "_view_module": "@jupyter-widgets/controls",
            "_view_module_version": "1.5.0",
            "_view_name": "VBoxView",
            "box_style": "",
            "children": [
              "IPY_MODEL_d48ce540a1c2485686c90588adc7791b",
              "IPY_MODEL_86d3aaaf12b7416083eabffe48e027a5"
            ],
            "layout": "IPY_MODEL_a293c06cd6e44a77a84018f47950a442"
          }
        },
        "21068e9407f748b8a655e705f750e4c1": {
          "model_module": "@jupyter-widgets/base",
          "model_module_version": "1.2.0",
          "model_name": "LayoutModel",
          "state": {
            "_model_module": "@jupyter-widgets/base",
            "_model_module_version": "1.2.0",
            "_model_name": "LayoutModel",
            "_view_count": null,
            "_view_module": "@jupyter-widgets/base",
            "_view_module_version": "1.2.0",
            "_view_name": "LayoutView",
            "align_content": null,
            "align_items": null,
            "align_self": null,
            "border": null,
            "bottom": null,
            "display": null,
            "flex": null,
            "flex_flow": null,
            "grid_area": null,
            "grid_auto_columns": null,
            "grid_auto_flow": null,
            "grid_auto_rows": null,
            "grid_column": null,
            "grid_gap": null,
            "grid_row": null,
            "grid_template_areas": null,
            "grid_template_columns": null,
            "grid_template_rows": null,
            "height": null,
            "justify_content": null,
            "justify_items": null,
            "left": null,
            "margin": null,
            "max_height": null,
            "max_width": null,
            "min_height": null,
            "min_width": null,
            "object_fit": null,
            "object_position": null,
            "order": null,
            "overflow": null,
            "overflow_x": null,
            "overflow_y": null,
            "padding": null,
            "right": null,
            "top": null,
            "visibility": null,
            "width": null
          }
        },
        "55bcac12abb64e32a1dc4fdd0e0a1fc6": {
          "model_module": "@jupyter-widgets/controls",
          "model_module_version": "1.5.0",
          "model_name": "DescriptionStyleModel",
          "state": {
            "_model_module": "@jupyter-widgets/controls",
            "_model_module_version": "1.5.0",
            "_model_name": "DescriptionStyleModel",
            "_view_count": null,
            "_view_module": "@jupyter-widgets/base",
            "_view_module_version": "1.2.0",
            "_view_name": "StyleView",
            "description_width": ""
          }
        },
        "86d3aaaf12b7416083eabffe48e027a5": {
          "model_module": "@jupyter-widgets/controls",
          "model_module_version": "1.5.0",
          "model_name": "FloatProgressModel",
          "state": {
            "_dom_classes": [],
            "_model_module": "@jupyter-widgets/controls",
            "_model_module_version": "1.5.0",
            "_model_name": "FloatProgressModel",
            "_view_count": null,
            "_view_module": "@jupyter-widgets/controls",
            "_view_module_version": "1.5.0",
            "_view_name": "ProgressView",
            "bar_style": "",
            "description": "",
            "description_tooltip": null,
            "layout": "IPY_MODEL_cb8fad6ca59a4fb7a98e2a91ef5585eb",
            "max": 1,
            "min": 0,
            "orientation": "horizontal",
            "style": "IPY_MODEL_d0da5f6716574477a14066bf3c990665",
            "value": 1
          }
        },
        "a293c06cd6e44a77a84018f47950a442": {
          "model_module": "@jupyter-widgets/base",
          "model_module_version": "1.2.0",
          "model_name": "LayoutModel",
          "state": {
            "_model_module": "@jupyter-widgets/base",
            "_model_module_version": "1.2.0",
            "_model_name": "LayoutModel",
            "_view_count": null,
            "_view_module": "@jupyter-widgets/base",
            "_view_module_version": "1.2.0",
            "_view_name": "LayoutView",
            "align_content": null,
            "align_items": null,
            "align_self": null,
            "border": null,
            "bottom": null,
            "display": null,
            "flex": null,
            "flex_flow": null,
            "grid_area": null,
            "grid_auto_columns": null,
            "grid_auto_flow": null,
            "grid_auto_rows": null,
            "grid_column": null,
            "grid_gap": null,
            "grid_row": null,
            "grid_template_areas": null,
            "grid_template_columns": null,
            "grid_template_rows": null,
            "height": null,
            "justify_content": null,
            "justify_items": null,
            "left": null,
            "margin": null,
            "max_height": null,
            "max_width": null,
            "min_height": null,
            "min_width": null,
            "object_fit": null,
            "object_position": null,
            "order": null,
            "overflow": null,
            "overflow_x": null,
            "overflow_y": null,
            "padding": null,
            "right": null,
            "top": null,
            "visibility": null,
            "width": null
          }
        },
        "cb8fad6ca59a4fb7a98e2a91ef5585eb": {
          "model_module": "@jupyter-widgets/base",
          "model_module_version": "1.2.0",
          "model_name": "LayoutModel",
          "state": {
            "_model_module": "@jupyter-widgets/base",
            "_model_module_version": "1.2.0",
            "_model_name": "LayoutModel",
            "_view_count": null,
            "_view_module": "@jupyter-widgets/base",
            "_view_module_version": "1.2.0",
            "_view_name": "LayoutView",
            "align_content": null,
            "align_items": null,
            "align_self": null,
            "border": null,
            "bottom": null,
            "display": null,
            "flex": null,
            "flex_flow": null,
            "grid_area": null,
            "grid_auto_columns": null,
            "grid_auto_flow": null,
            "grid_auto_rows": null,
            "grid_column": null,
            "grid_gap": null,
            "grid_row": null,
            "grid_template_areas": null,
            "grid_template_columns": null,
            "grid_template_rows": null,
            "height": null,
            "justify_content": null,
            "justify_items": null,
            "left": null,
            "margin": null,
            "max_height": null,
            "max_width": null,
            "min_height": null,
            "min_width": null,
            "object_fit": null,
            "object_position": null,
            "order": null,
            "overflow": null,
            "overflow_x": null,
            "overflow_y": null,
            "padding": null,
            "right": null,
            "top": null,
            "visibility": null,
            "width": null
          }
        },
        "d0da5f6716574477a14066bf3c990665": {
          "model_module": "@jupyter-widgets/controls",
          "model_module_version": "1.5.0",
          "model_name": "ProgressStyleModel",
          "state": {
            "_model_module": "@jupyter-widgets/controls",
            "_model_module_version": "1.5.0",
            "_model_name": "ProgressStyleModel",
            "_view_count": null,
            "_view_module": "@jupyter-widgets/base",
            "_view_module_version": "1.2.0",
            "_view_name": "StyleView",
            "bar_color": null,
            "description_width": ""
          }
        },
        "d48ce540a1c2485686c90588adc7791b": {
          "model_module": "@jupyter-widgets/controls",
          "model_module_version": "1.5.0",
          "model_name": "LabelModel",
          "state": {
            "_dom_classes": [],
            "_model_module": "@jupyter-widgets/controls",
            "_model_module_version": "1.5.0",
            "_model_name": "LabelModel",
            "_view_count": null,
            "_view_module": "@jupyter-widgets/controls",
            "_view_module_version": "1.5.0",
            "_view_name": "LabelView",
            "description": "",
            "description_tooltip": null,
            "layout": "IPY_MODEL_21068e9407f748b8a655e705f750e4c1",
            "placeholder": "​",
            "style": "IPY_MODEL_55bcac12abb64e32a1dc4fdd0e0a1fc6",
            "value": "161.997 MB of 161.997 MB uploaded\r"
          }
        }
      }
    }
  },
  "nbformat": 4,
  "nbformat_minor": 0
}
