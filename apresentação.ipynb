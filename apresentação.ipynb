{
 "cells": [
  {
   "cell_type": "markdown",
   "metadata": {},
   "source": []
  },
  {
   "cell_type": "code",
   "execution_count": null,
   "metadata": {},
   "outputs": [],
   "source": [
    "Dataset: https://www.kaggle.com/datasets/rimmelasghar/solar-anamolies-dataset"
   ]
  },
  {
   "cell_type": "markdown",
   "metadata": {},
   "source": [
    "About Dataset\n",
    "\n",
    "Solar Anamolies DataSet InfraredSolarModules is a machine learning dataset that contains real-world imagery of different anomalies found in solar farms. This dataset can be used for machine learning research to gain efficiencies in the solar industry. Infrared imagery is not widely available to researchers\n",
    "\n",
    "Description of the dataset 📝\n",
    "\n",
    "The dataset consists of 20,000 infrared images that are 24 by 40 pixels each. There are 12 defined classes of solar modules presented in this paper with 11 classes of different anomalies and the remaining class being No-Anomaly (i.e. the null case).\n",
    "\n",
    "Class Name Images Description Cell 1,877 Hot spot occurring with square geometry in single cell. Cell-Multi 1,288 Hot spots occurring with square geometry in multiple cells. Cracking 941 Module anomaly caused by cracking on module surface. Hot-Spot 251 Hot spot on a thin film module. Hot-Spot-Multi 247 Multiple hot spots on a thin film module. Shadowing 1056 Sunlight obstructed by vegetation, man-made structures, or adjacent rows. Diode 1,499 Activated bypass diode, typically 1/3 of module. Diode-Multi 175 Multiple activated bypass diodes, typically affecting 2/3 of module. Vegetation 1,639 Panels blocked by vegetation. Soiling 205 Dirt, dust, or other debris on surface of module. Offline-Module 828 Entire module is heated. No-Anomaly 10,000 Nominal solar module. Our goal 🎯 Goal is clear and simple. We need to build a model, which can classify between Different Classes of Solar Anomalies."
   ]
  },
  {
   "cell_type": "markdown",
   "metadata": {},
   "source": [
    "Objetivos e aplicações do modelo escolhido e do dataset utilizado;\n",
    "\n",
    "Objetivo é montar um modelo que leve em consideração os diferente tipos de anomalias presente em placas solares, tendo uso com uma utilização cada vez maior de placas solares no Rio Grande Do Norte\n",
    "\n",
    "▪ Descrição do estado da arte com arquiteturas de Deep Learning mais recente para problemas semelhantes, bases de dados de benchmark disponíveis e artigos disponíveis nos portais: https://kaggle.com, https://paperswithcode.com e/ou https://huggingface.co;\n",
    "\n",
    "Não foram encontrados outros datasets especificos para anomalias em placas solares\n",
    "\n",
    "▪ Apresentação do dataset incluindo, número de amostras, features, e classes alvos de predição (caso seja uma análise supervisionada), distribuição de amostras por classes;\n",
    "\n",
    "O dataset possui 20mil imagens divididos em 12 classes sendo elas: Cell, Cell-Multi, Cracking, Hot-Spot, Hot-Spot-Multi, Shadowing, Diode, Diode-Multi, Vegetation, Soiling, Offline-Module e No-Anomaly\n",
    "\n",
    "▪ Pré Processamento utilizado no dataset;\n",
    "\n",
    "Mudança das imagens para 24x24\n",
    "\n",
    "▪ Proporções de separação dos dados entre treinamento, teste e validação;\n",
    "\n",
    "Vai ser utilizada a proporção 70/15/15\n",
    "\n",
    "▪ Fluxo de treinamento com Arquitetura da rede de treinamento com número de neurônios por camadas e parâmetros treinados;\n",
    "\n",
    "CNN, 576,\n",
    "\n",
    "▪ Detalhamento do uso de redes pré-treinadas;\n",
    "\n",
    "Possivelmente a utilização da VGG ou ResNet\n",
    "\n",
    "▪ Detalhamento dos procedimentos de normalização, funções de ativação utilizada, inicialização de pesos e vieses, tipo de algoritmo de otimização, função loss utilizada;\n",
    "\n",
    "Serão utilizados Batch normalization, ReLU e softmax, Adam, Cross entropy\n",
    "\n",
    "▪ Detalhamento das estratégias de data augmentation, se for o caso;\n",
    "\n",
    "Estrategias serão rotação, escala e translação\n",
    "\n",
    "▪ Detalhamento da busca por hiperparâmetros para o Weights and Biases (https://wandb.ai);\n",
    "\n",
    "Ainda não foi definido."
   ]
  }
 ],
 "metadata": {
  "language_info": {
   "name": "python"
  }
 },
 "nbformat": 4,
 "nbformat_minor": 2
}
